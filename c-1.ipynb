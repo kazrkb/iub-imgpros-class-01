{
 "cells": [
  {
   "cell_type": "markdown",
   "id": "7af12772",
   "metadata": {},
   "source": [
    "## Basic of Image Processing"
   ]
  },
  {
   "cell_type": "code",
   "execution_count": null,
   "id": "e4b7c925",
   "metadata": {},
   "outputs": [],
   "source": []
  }
 ],
 "metadata": {
  "language_info": {
   "name": "python"
  }
 },
 "nbformat": 4,
 "nbformat_minor": 5
}
